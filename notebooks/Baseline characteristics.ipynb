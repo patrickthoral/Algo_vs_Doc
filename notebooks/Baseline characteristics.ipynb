{
 "cells": [
  {
   "cell_type": "markdown",
   "id": "e6471a5b",
   "metadata": {},
   "source": [
    "# Baseline Characteristics of population\n",
    "Shows some descriptive statistics of the discharged patients of the `algo_vs_doc` project"
   ]
  },
  {
   "cell_type": "code",
   "execution_count": null,
   "id": "960cda05-740c-4427-816e-d2c5d9a84b7f",
   "metadata": {
    "ExecuteTime": {
     "end_time": "2024-09-06T12:41:40.127634871Z",
     "start_time": "2024-09-06T12:41:39.956676829Z"
    }
   },
   "outputs": [],
   "source": [
    "import os\n",
    "import pandas as pd\n",
    "\n",
    "# Define project root directory\n",
    "project_root = '../'"
   ]
  },
  {
   "cell_type": "markdown",
   "id": "3e5c279f",
   "metadata": {},
   "source": [
    "## Setttings and Data"
   ]
  },
  {
   "cell_type": "code",
   "execution_count": null,
   "id": "207ea853",
   "metadata": {},
   "outputs": [],
   "source": [
    "data_folder = \"data\"\n",
    "tables_folder = \"tables\"\n",
    "\n",
    "hospitals = {\n",
    "    'vumc': \"merged_data_vumc.tsv\",\n",
    "    'lumc': \"merged_data_lumc.tsv\"\n",
    "}"
   ]
  },
  {
   "cell_type": "markdown",
   "id": "29b3bc25-b3c6-4221-9fdc-9763f0d67dbd",
   "metadata": {},
   "source": [
    "## Load Data"
   ]
  },
  {
   "cell_type": "code",
   "execution_count": null,
   "id": "e97a6f23-0f6d-43d9-b8ae-2a46bc470b6d",
   "metadata": {},
   "outputs": [],
   "source": [
    "lumc = pd.read_csv(\n",
    "    os.path.join(project_root, data_folder, hospitals['lumc']), sep=\"\\t\"\n",
    ")\n",
    "\n",
    "vumc = pd.read_csv(\n",
    "    os.path.join(project_root, data_folder, hospitals['vumc']), sep=\"\\t\"\n",
    ")"
   ]
  },
  {
   "cell_type": "markdown",
   "id": "f4e03e13-a4dd-4cff-8fd8-2fa94e991218",
   "metadata": {},
   "source": [
    "## LUMC baseline characteristics"
   ]
  },
  {
   "cell_type": "code",
   "execution_count": null,
   "id": "9c43882e-34aa-4f52-9a6c-2d5f452b98ce",
   "metadata": {},
   "outputs": [],
   "source": [
    "len(lumc)"
   ]
  },
  {
   "cell_type": "code",
   "execution_count": null,
   "id": "dc4d4dc8-40c6-4b1d-9e0c-feb551547910",
   "metadata": {},
   "outputs": [],
   "source": [
    "lumc[\"length_of_stay_hours\"] = (\n",
    "    pd.to_datetime(lumc[\"discharge_time\"]) - pd.to_datetime(lumc[\"admission_timestamp\"])\n",
    ").dt.total_seconds() / (60 * 60)"
   ]
  },
  {
   "cell_type": "code",
   "execution_count": null,
   "id": "cff9d7ec-9ddb-4cf5-a862-754a5114af90",
   "metadata": {},
   "outputs": [],
   "source": [
    "lumc[\"age\"].describe()"
   ]
  },
  {
   "cell_type": "code",
   "execution_count": null,
   "id": "ac6d6f9f-73a5-477d-a61c-a6690182f282",
   "metadata": {},
   "outputs": [],
   "source": [
    "lumc[\"sex\"].fillna(\"unknown\").value_counts()"
   ]
  },
  {
   "cell_type": "code",
   "execution_count": null,
   "id": "1f7286f8-c840-4d15-81ad-96b6cbd44c48",
   "metadata": {},
   "outputs": [],
   "source": [
    "lumc[\"icu_specialty\"].fillna(\"unknown\").value_counts()"
   ]
  },
  {
   "cell_type": "code",
   "execution_count": null,
   "id": "e46e3211-5ac9-4f87-aabf-cd7509747f38",
   "metadata": {},
   "outputs": [],
   "source": [
    "lumc[\"length_of_stay_hours\"].describe()"
   ]
  },
  {
   "cell_type": "markdown",
   "id": "8e72d8e1-af78-4380-92d0-4e7040a69073",
   "metadata": {},
   "source": [
    "## VUMC baseline characteristics"
   ]
  },
  {
   "cell_type": "code",
   "execution_count": null,
   "id": "53b7ab45-9e17-4790-b032-4d098c60b846",
   "metadata": {},
   "outputs": [],
   "source": [
    "len(vumc)"
   ]
  },
  {
   "cell_type": "code",
   "execution_count": null,
   "id": "85dd7e87-95fc-4638-af53-6d9b4b593cf0",
   "metadata": {},
   "outputs": [],
   "source": [
    "vumc[\"age\"].describe()"
   ]
  },
  {
   "cell_type": "code",
   "execution_count": null,
   "id": "7288666b-f7c1-4b4a-be17-7a1bcaaaa2c8",
   "metadata": {},
   "outputs": [],
   "source": [
    "vumc[\"sex\"].fillna(\"unknown\").value_counts()"
   ]
  },
  {
   "cell_type": "code",
   "execution_count": null,
   "id": "b98629d2-1b52-4bf6-bf6e-13b8177f7b86",
   "metadata": {},
   "outputs": [],
   "source": [
    "vumc[\"icu_specialty\"].fillna(\"unknown\").value_counts()"
   ]
  },
  {
   "cell_type": "code",
   "execution_count": null,
   "id": "ceaf5384-5b08-4795-a95d-2d62ecab5b67",
   "metadata": {},
   "outputs": [],
   "source": [
    "vumc[\"length_of_stay_hours\"].describe()"
   ]
  },
  {
   "cell_type": "markdown",
   "id": "93521865",
   "metadata": {},
   "source": [
    "## Create Baseline Characteristics table"
   ]
  },
  {
   "cell_type": "code",
   "execution_count": null,
   "id": "b5f545be",
   "metadata": {},
   "outputs": [],
   "source": [
    "# common columns containg baseline data\n",
    "cols = ['age', 'sex', 'icu_specialty', 'length_of_stay_hours', 'outcome', 'hospital']\n",
    "\n",
    "# merge both hospital data frames\n",
    "lumc['hospital'] = 'lumc'\n",
    "vumc['hospital'] = 'vumc'\n",
    "\n",
    "merged = pd.concat([lumc[cols], vumc[cols]])\n",
    "\n",
    "# create baseline dataframe (table)\n",
    "baseline = pd.DataFrame()\n",
    "groups = {\n",
    "    'All': (~merged['hospital'].isna()), # all records\n",
    "    'VUmc': (merged['hospital'] == 'vumc'),\n",
    "    'LUMC': (merged['hospital'] == 'lumc')\n",
    "}\n",
    "\n",
    "merged[\"sex\"] = merged[\"sex\"].fillna(\"unknown\")\n",
    "\n",
    "for group in groups:\n",
    "    select = groups[group]\n",
    "\n",
    "    # ICU discharges, n\n",
    "    total = len(merged[select])\n",
    "    baseline.loc['ICU discharges, n', group] = f\"{total}\"\n",
    "    \n",
    "    # Age, mean (SD)\n",
    "    age_mean = merged[select]['age'].mean()\n",
    "    age_sd = merged[select]['age'].std()\n",
    "    baseline.loc['Age, mean (SD)', group] = f\"{age_mean:.0f} ({age_sd:.0f})\"\n",
    "    \n",
    "    # Female, n (%)\n",
    "    female_n = merged[select & (merged['sex'] == 'female')]['sex'].count()\n",
    "    female_pct = 100*female_n/total\n",
    "    baseline.loc['Female, n (%)', group] = f\"{female_n} ({female_pct:.1f})\"\n",
    "\n",
    "    # Admitting specialty, n (%)\n",
    "    baseline.loc['Admitting specialty, n (%)', group] = \"\"\n",
    "\n",
    "    # Surgical\n",
    "    select_surgical = ['cardio_surgery', 'surgery', 'urology', 'ent', 'neuro_surgery', 'mka']\n",
    "    surgical_n = merged[select & merged['icu_specialty'].isin(select_surgical)]['icu_specialty'].count()\n",
    "    surgical_pct = 100*surgical_n/total\n",
    "    baseline.loc['Surgical', group] = f\"{surgical_n} ({surgical_pct:.1f})\"\n",
    "    \n",
    "    # Cardiothoracic Surgery\n",
    "    ctc_n = merged[select & (merged['icu_specialty'] == 'cardio_surgery')]['icu_specialty'].count()\n",
    "    ctc_pct = 100*ctc_n/total\n",
    "    baseline.loc['Cardiothoracic Surgery', group] = f\"{ctc_n} ({ctc_pct:.1f})\"\n",
    "\n",
    "    # General Surgery\n",
    "    gen_surg_n = merged[select & (merged['icu_specialty'] == 'surgery')]['icu_specialty'].count()\n",
    "    gen_surg_pct = 100*gen_surg_n/total\n",
    "    baseline.loc['General Surgery', group] = f\"{gen_surg_n} ({gen_surg_pct:.1f})\"\n",
    "\n",
    "    # Neurosurgery\n",
    "    neuro_surg_n = merged[select & (merged['icu_specialty'] == 'neuro_surgery')]['icu_specialty'].count()\n",
    "    neuro_surg_pct = 100*neuro_surg_n/total\n",
    "    baseline.loc['Neurosurgery', group] = f\"{neuro_surg_n} ({neuro_surg_pct:.1f})\"\n",
    "\n",
    "    # Otolaryngology\n",
    "    ent_n = merged[select & (merged['icu_specialty'] == 'ent')]['icu_specialty'].count()\n",
    "    ent_pct = 100*ent_n/total\n",
    "    baseline.loc['Otolaryngology', group] = f\"{ent_n} ({ent_pct:.1f})\"\n",
    "\n",
    "    # Other surgery\n",
    "    other_surg_n = merged[select & merged['icu_specialty'].isin(['urology', 'mka'])]['icu_specialty'].count()\n",
    "    other_surg_pct = 100*other_surg_n/total\n",
    "    baseline.loc['Other surgery', group] = f\"{other_surg_n} ({other_surg_pct:.1f})\"\n",
    "\n",
    "    # Medical\n",
    "    select_medical = ['internal_medicine', 'internal_medicine_hematology', 'psychiatry', 'neurology', 'cardiology', 'pulmonary_medicine', \n",
    "                      'pulmonary', 'gastroenterology']\n",
    "    medical_n = merged[select & merged['icu_specialty'].isin(select_medical)]['icu_specialty'].count()\n",
    "    medical_pct = 100*medical_n/total\n",
    "    baseline.loc['Medical', group] = f\"{medical_n} ({medical_pct:.1f})\"\n",
    "\n",
    "    # Internal Medicine\n",
    "    medicine_n = merged[select & merged['icu_specialty'].isin(['internal_medicine', 'internal_medicine_hematology'])]['icu_specialty'].count()\n",
    "    medicine_pct = 100*medicine_n/total\n",
    "    baseline.loc['Internal Medicine', group] = f\"{medicine_n} ({medicine_pct:.1f})\"\n",
    "\n",
    "    # Gastro-enterology\n",
    "    ge_n = merged[select & (merged['icu_specialty'] == 'gastroenterology')]['icu_specialty'].count()\n",
    "    ge_pct = 100*ge_n/total\n",
    "    baseline.loc['Gastro-enterology', group] = f\"{ge_n} ({ge_pct:.1f})\"\n",
    "\n",
    "    # Cardiology\n",
    "    cardio_n = merged[select & (merged['icu_specialty'] == 'cardiology')]['icu_specialty'].count()\n",
    "    cardio_pct = 100*cardio_n/total\n",
    "    baseline.loc['Cardiology', group] = f\"{cardio_n} ({cardio_pct:.1f})\"\n",
    "\n",
    "    # Neurology\n",
    "    neuro_n = merged[select & (merged['icu_specialty'] == 'neurology')]['icu_specialty'].count()\n",
    "    neuro_pct = 100*neuro_n/total\n",
    "    baseline.loc['Neurology', group] = f\"{neuro_n} ({neuro_pct:.1f})\"\n",
    "\n",
    "    # Pulmonary Medicine\n",
    "    pulmo_n = merged[select & merged['icu_specialty'].isin(['pulmonary_medicine', 'pulmonary'])]['icu_specialty'].count()\n",
    "    pulmo_pct = 100*pulmo_n/total\n",
    "    baseline.loc['Pulmonary Medicine', group] = f\"{pulmo_n} ({pulmo_pct:.1f})\"\n",
    "\n",
    "    # Other medical\n",
    "    other_n = merged[select & merged['icu_specialty'].isin(['psychiatry'])]['icu_specialty'].count()\n",
    "    other_pct = 100*other_n/total\n",
    "    baseline.loc['Other medical', group] = f\"{other_n} ({other_pct:.1f})\"\n",
    "\n",
    "    # Unspecified\n",
    "    unspecified_n = merged[select & merged['icu_specialty'].isin(['other', 'intensive_care'])]['icu_specialty'].count()\n",
    "    unspecified_pct = 100*unspecified_n/total\n",
    "    baseline.loc['Unspecified', group] = f\"{unspecified_n} ({unspecified_pct:.1f})\"\n",
    "\n",
    "    # Length of Stay, days, median (IQR)\n",
    "    merged['length_of_stay_days'] = merged['length_of_stay_hours']/24\n",
    "    los_median = merged[select]['length_of_stay_days'].median()\n",
    "    los_q25 = merged[select]['length_of_stay_days'].quantile(0.25)\n",
    "    los_q75 = merged[select]['length_of_stay_days'].quantile(0.75)\n",
    "    baseline.loc['Length of Stay, days, median (IQR)', group] = f\"{los_median:.1f} ({los_q25:.1f}-{los_q75:.1f})\"\n",
    "\n",
    "    # Readmission/death within 7 days after discharge, n (%)\n",
    "    outcome_n = merged[select & (merged['outcome'] == True)]['outcome'].count()\n",
    "    outcome_pct = 100*outcome_n/total\n",
    "    baseline.loc['Readmission/death within 7 days after discharge, n (%)', group] = f\"{outcome_n} ({outcome_pct:.1f})\"\n",
    "\n",
    "baseline.to_csv(\n",
    "    os.path.join(project_root, tables_folder, \"Combined\", \"baseline_characteristics.csv\")\n",
    "    )\n",
    "baseline"
   ]
  }
 ],
 "metadata": {
  "kernelspec": {
   "display_name": ".venv",
   "language": "python",
   "name": "python3"
  },
  "language_info": {
   "codemirror_mode": {
    "name": "ipython",
    "version": 3
   },
   "file_extension": ".py",
   "mimetype": "text/x-python",
   "name": "python",
   "nbconvert_exporter": "python",
   "pygments_lexer": "ipython3",
   "version": "3.12.10"
  }
 },
 "nbformat": 4,
 "nbformat_minor": 5
}
