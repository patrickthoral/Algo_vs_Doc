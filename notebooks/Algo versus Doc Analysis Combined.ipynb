{
 "cells": [
  {
   "cell_type": "markdown",
   "id": "90635349",
   "metadata": {},
   "source": [
    "# Algo versus Doc Analysis Combined\n",
    "This notebook runs the analysis for the `algo_vs_doc` project for the combined dataset of both hospitals (VUmc and LUMC)."
   ]
  },
  {
   "cell_type": "code",
   "execution_count": null,
   "id": "b8dca290",
   "metadata": {
    "pycharm": {
     "name": "#%%\n"
    }
   },
   "outputs": [],
   "source": [
    "%load_ext autoreload\n",
    "%autoreload 2\n",
    "\n",
    "# Load required packages\n",
    "import os\n",
    "import sys\n",
    "\n",
    "# Define project root directory\n",
    "project_root = '../'\n",
    "# Add project root to system path to allow imports from project modules\n",
    "sys.path.append(project_root)\n",
    "\n",
    "import algo_vs_doc.plots as plots\n",
    "import algo_vs_doc.analysis as analysis\n",
    "\n",
    "import pandas as pd\n",
    "import numpy as np\n",
    "\n",
    "from scipy.stats import chi2_contingency, contingency, ttest_ind, f_oneway, kruskal, alpha\n",
    "\n",
    "pd.set_option(\"mode.chained_assignment\", None)\n",
    "pd.set_option(\"display.max_columns\", None)"
   ]
  },
  {
   "cell_type": "markdown",
   "id": "53e5932a",
   "metadata": {
    "pycharm": {
     "name": "#%% md\n"
    }
   },
   "source": [
    "# Settings and Data"
   ]
  },
  {
   "cell_type": "code",
   "execution_count": null,
   "id": "d136ca57",
   "metadata": {
    "pycharm": {
     "name": "#%%\n"
    }
   },
   "outputs": [],
   "source": [
    "# set current hospital for storing outputs and hospital specific data processing\n",
    "hospital = \"Combined\"\n",
    "plots.hospital = hospital\n",
    "analysis.hospital = hospital\n",
    "\n",
    "data_folder = \"data\"\n",
    "tables_folder = \"tables\"\n",
    "\n",
    "hospitals = {\n",
    "    'vumc': \"merged_data_vumc.tsv\",\n",
    "    'lumc': \"merged_data_lumc.tsv\"\n",
    "}"
   ]
  },
  {
   "cell_type": "markdown",
   "id": "7717bb0d",
   "metadata": {
    "pycharm": {
     "name": "#%% md\n"
    }
   },
   "source": [
    "## predictions_and_outcomes\n",
    "- each row corresponds to one prediction of algorithm and doc\n",
    "- contains the outcome (readmision or death)"
   ]
  },
  {
   "cell_type": "markdown",
   "id": "3387984c",
   "metadata": {},
   "source": [
    "## Transform data and combine into single dataframe"
   ]
  },
  {
   "cell_type": "code",
   "execution_count": null,
   "id": "9898270a",
   "metadata": {
    "pycharm": {
     "name": "#%%\n"
    }
   },
   "outputs": [],
   "source": [
    "# Transform data\n",
    "dataframes = []\n",
    "\n",
    "for current_hospital in hospitals:\n",
    "    predictions_and_outcomes = pd.read_csv(os.path.join(project_root, data_folder, hospitals[current_hospital]), delimiter=\"\\t\")\n",
    "\n",
    "    # transform percentage and categories to proportions\n",
    "    predictions_and_outcomes.loc[:, [\"doc_prediction\"]] = (\n",
    "        predictions_and_outcomes.loc[:, [\"doc_prediction\"]] / 100\n",
    "    )\n",
    "    predictions_and_outcomes.loc[:, [\"doc_prediction_cat\"]] = (\n",
    "        predictions_and_outcomes.loc[:, [\"doc_prediction_cat\"]] / 3\n",
    "    )\n",
    "\n",
    "    # transform confidence categories to the same ones for both hospitals i.e. 'Gemiddeld/Weinig' vs 'Veel'\n",
    "    if current_hospital == 'vumc':\n",
    "        predictions_and_outcomes.loc[\n",
    "            predictions_and_outcomes.confidence == \"Weinig\", \"confidence\"\n",
    "        ] = \"Gemiddeld\"\n",
    "        predictions_and_outcomes.loc[\n",
    "            predictions_and_outcomes.confidence == \"Gemiddeld\", \"confidence\"\n",
    "        ] = \"Gemiddeld/Weinig\"\n",
    "    elif current_hospital == 'lumc':\n",
    "        predictions_and_outcomes = predictions_and_outcomes.rename(columns={'confidence': 'confidence_int'})\n",
    "        predictions_and_outcomes.loc[\n",
    "            (predictions_and_outcomes.confidence_int == 1)\n",
    "            | (predictions_and_outcomes.confidence_int == 2),\n",
    "            \"confidence\",\n",
    "        ] = \"Gemiddeld/Weinig\"\n",
    "        predictions_and_outcomes.loc[predictions_and_outcomes.confidence_int == 3, \"confidence\"] = (\n",
    "            \"Veel\"\n",
    "        )\n",
    "\n",
    "    # calculate time difference between predictions and actual discharges\n",
    "    predictions_and_outcomes[\"true_h_doc\"] = (\n",
    "        pd.to_datetime(predictions_and_outcomes.discharge_time)\n",
    "        - pd.to_datetime(predictions_and_outcomes.time_doc_prediction)\n",
    "    ).apply(lambda d: d.seconds / 3600)\n",
    "    \n",
    "    \n",
    "    if current_hospital == 'vumc':\n",
    "        predictions_and_outcomes[\"true_h_algo_at_discharge\"] = (\n",
    "            pd.to_datetime(predictions_and_outcomes.discharge_time)\n",
    "            - pd.to_datetime(predictions_and_outcomes.time_algo_at_discharge)\n",
    "        ).apply(lambda d: d.seconds / 3600)\n",
    "\n",
    "        predictions_and_outcomes[\"true_h_algo_at_doc_prediction\"] = (\n",
    "            pd.to_datetime(predictions_and_outcomes.discharge_time)\n",
    "            - pd.to_datetime(predictions_and_outcomes.time_algo_at_doc_prediction)\n",
    "        ).apply(lambda d: d.seconds / 3600)\n",
    "        \n",
    "    elif current_hospital == 'lumc':\n",
    "        # at lumc there is no difference between algo time and discharge time, \n",
    "        # as we score the predictions at the discharge moment\n",
    "        predictions_and_outcomes[\"true_h_algo_at_discharge\"] = 0\n",
    "\n",
    "        predictions_and_outcomes[\"true_h_algo_at_doc_prediction\"] = (\n",
    "            pd.to_datetime(predictions_and_outcomes.discharge_time)\n",
    "            - pd.to_datetime(predictions_and_outcomes.time_doc_prediction)\n",
    "        ).apply(lambda d: d.seconds / 3600)\n",
    "\n",
    "    # transform serialized factors/features used by model and physicians\n",
    "    if current_hospital == 'vumc':\n",
    "\n",
    "        # values may contain multiple factors separated by \",\". The construct_doc_factors_data_frame function assumes '||' as the separator\n",
    "        predictions_and_outcomes['doc_factors'] = predictions_and_outcomes['doc_factors'].apply(\n",
    "            lambda x: \"||\".join(x.split(\", \")) if pd.notnull(x) else None\n",
    "        )\n",
    "\n",
    "        predictions_and_outcomes['doc_other_factor'] = predictions_and_outcomes['doc_other_factor'].apply(\n",
    "            lambda x: None if pd.isnull(x) else x\n",
    "        )\n",
    "\n",
    "    elif current_hospital == 'lumc':\n",
    "\n",
    "        # values are stored als 'stringified' lists. The construct_doc_factors_data_frame function assumes '||' as the separator\n",
    "        predictions_and_outcomes['doc_factors'] = predictions_and_outcomes['doc_factors'].apply(\n",
    "            lambda x: \"||\".join(eval(x)) if len(eval(x)) > 0 else None\n",
    "        )\n",
    "\n",
    "        predictions_and_outcomes['doc_other_factor'] = predictions_and_outcomes['doc_other_factor'].apply(\n",
    "            lambda x: \"||\".join(eval(x)) if len(eval(x)) > 0 else None\n",
    "        )\n",
    "\n",
    "    predictions_and_outcomes['hospital'] = current_hospital\n",
    "    dataframes.append(predictions_and_outcomes)\n",
    "\n",
    "# columns shared by both dataframes    \n",
    "columns = np.intersect1d(dataframes[0].columns, dataframes[1].columns)\n",
    "\n",
    "# merge both dataframes\n",
    "predictions_and_outcomes = pd.DataFrame()\n",
    "for df in dataframes:\n",
    "    predictions_and_outcomes = pd.concat([predictions_and_outcomes, df[columns]])\n",
    "\n",
    "# reset index to remove duplicate keys\n",
    "predictions_and_outcomes = predictions_and_outcomes.reset_index(drop=True)"
   ]
  },
  {
   "cell_type": "markdown",
   "id": "8a4f3d31",
   "metadata": {
    "pycharm": {
     "name": "#%% md\n"
    }
   },
   "source": [
    "# Exploratory data analysis\n"
   ]
  },
  {
   "cell_type": "markdown",
   "id": "fe103242",
   "metadata": {
    "pycharm": {
     "name": "#%% md\n"
    }
   },
   "source": [
    "## Plots"
   ]
  },
  {
   "cell_type": "code",
   "execution_count": null,
   "id": "9975275a",
   "metadata": {
    "pycharm": {
     "name": "#%%\n"
    }
   },
   "outputs": [],
   "source": [
    "# scipy dependency should be > 1.10.0 to use 'count' attribute from res CrossTabResult\n",
    "\n",
    "contingency_table_data = predictions_and_outcomes.loc[\n",
    "    ~pd.isnull(predictions_and_outcomes.doc_prediction_cat), :\n",
    "]\n",
    "contingency_table = contingency.crosstab(\n",
    "    contingency_table_data.doc_prediction_cat, contingency_table_data.outcome\n",
    ").count\n",
    "chi2 = chi2_contingency(contingency_table)\n",
    "plots.barplot_by_outcome(data=predictions_and_outcomes, variable=\"doc_prediction_cat\", chi2=chi2)"
   ]
  },
  {
   "cell_type": "code",
   "execution_count": null,
   "id": "214808a0",
   "metadata": {
    "pycharm": {
     "name": "#%%\n"
    }
   },
   "outputs": [],
   "source": [
    "ttest = [\n",
    "    ttest_ind(\n",
    "        predictions_and_outcomes.loc[\n",
    "            predictions_and_outcomes.outcome == 0, \"doc_prediction\"\n",
    "        ],\n",
    "        predictions_and_outcomes.loc[\n",
    "            predictions_and_outcomes.outcome == 1, \"doc_prediction\"\n",
    "        ],\n",
    "        nan_policy=\"omit\",\n",
    "    ),\n",
    "    ttest_ind(\n",
    "        predictions_and_outcomes.loc[\n",
    "            predictions_and_outcomes.outcome == 0, \"algo_at_doc_prediction\"\n",
    "        ],\n",
    "        predictions_and_outcomes.loc[\n",
    "            predictions_and_outcomes.outcome == 1, \"algo_at_doc_prediction\"\n",
    "        ],\n",
    "        nan_policy=\"omit\",\n",
    "    ),\n",
    "    ttest_ind(\n",
    "        predictions_and_outcomes.loc[\n",
    "            predictions_and_outcomes.outcome == 0, \"algo_at_discharge\"\n",
    "        ],\n",
    "        predictions_and_outcomes.loc[\n",
    "            predictions_and_outcomes.outcome == 1, \"algo_at_discharge\"\n",
    "        ],\n",
    "        nan_policy=\"omit\",\n",
    "    ),\n",
    "]\n",
    "plots.histogram_by_outcome(\n",
    "    data=predictions_and_outcomes,\n",
    "    variables=[\"doc_prediction\", \"algo_at_doc_prediction\", \"algo_at_discharge\"],\n",
    "    ttest=ttest,\n",
    ")"
   ]
  },
  {
   "cell_type": "code",
   "execution_count": null,
   "id": "e42246ed",
   "metadata": {
    "pycharm": {
     "name": "#%%\n"
    }
   },
   "outputs": [],
   "source": [
    "anova = f_oneway(\n",
    "    predictions_and_outcomes.loc[\n",
    "        predictions_and_outcomes[\"doc_prediction_cat\"] == 1 / 3, \"doc_prediction\"\n",
    "    ],\n",
    "    predictions_and_outcomes.loc[\n",
    "        predictions_and_outcomes[\"doc_prediction_cat\"] == 2 / 3, \"doc_prediction\"\n",
    "    ],\n",
    "    predictions_and_outcomes.loc[\n",
    "        predictions_and_outcomes[\"doc_prediction_cat\"] == 1, \"doc_prediction\"\n",
    "    ],\n",
    ")\n",
    "kruskal_wallis = kruskal(\n",
    "    predictions_and_outcomes.loc[\n",
    "        predictions_and_outcomes[\"doc_prediction_cat\"] == 1 / 3, \"doc_prediction\"\n",
    "    ],\n",
    "    predictions_and_outcomes.loc[\n",
    "        predictions_and_outcomes[\"doc_prediction_cat\"] == 2 / 3, \"doc_prediction\"\n",
    "    ],\n",
    "    predictions_and_outcomes.loc[\n",
    "        predictions_and_outcomes[\"doc_prediction_cat\"] == 1, \"doc_prediction\"\n",
    "    ],\n",
    ")\n",
    "plots.stratified_histogram(\n",
    "    predictions_and_outcomes,\n",
    "    \"doc_prediction\",\n",
    "    \"doc_prediction_cat\",\n",
    "    kruskal_wallis,\n",
    "    labels=[\"Low Risk\", \"Moderate Risk\", \"High Risk\"],\n",
    "    plotname=\"physician_model_prediction\",\n",
    "    title=\"Physician Predictions by Risk category\"\n",
    ")"
   ]
  },
  {
   "cell_type": "markdown",
   "id": "ddf0fedc",
   "metadata": {
    "pycharm": {
     "name": "#%% md\n"
    }
   },
   "source": [
    "## Correlation"
   ]
  },
  {
   "cell_type": "code",
   "execution_count": null,
   "id": "b36617f5",
   "metadata": {
    "pycharm": {
     "name": "#%%\n"
    },
    "scrolled": true
   },
   "outputs": [],
   "source": [
    "correlations = predictions_and_outcomes[\n",
    "    [\"algo_at_doc_prediction\", \"algo_at_discharge\", \"doc_prediction\"]\n",
    "    ].corr(\"spearman\")\n",
    "correlations.to_csv(os.path.join(project_root, tables_folder, hospital, \"correlation_table.csv\"))\n",
    "plots.scatter_plot(\n",
    "    data=predictions_and_outcomes,\n",
    "    xs=[\"doc_prediction\", \"doc_prediction\", \"algo_at_doc_prediction\"],\n",
    "    ys=[\"algo_at_doc_prediction\", \"algo_at_discharge\", \"algo_at_discharge\"],\n",
    "    correlation=[\n",
    "        correlations.iloc[0, 2],\n",
    "        correlations.iloc[1, 2],\n",
    "        correlations.iloc[1, 0],\n",
    "    ],\n",
    ")"
   ]
  },
  {
   "cell_type": "markdown",
   "id": "834baa8bba937ebf",
   "metadata": {
    "collapsed": false,
    "jupyter": {
     "outputs_hidden": false
    }
   },
   "source": [
    "## Calculate the combined prediction of physicians and algorithm"
   ]
  },
  {
   "cell_type": "code",
   "execution_count": null,
   "id": "a59e2afc",
   "metadata": {
    "pycharm": {
     "name": "#%%\n"
    }
   },
   "outputs": [],
   "source": [
    "predictions_and_outcomes = analysis.combine_predictions(\n",
    "    predictions_and_outcomes,\n",
    "    \"doc_prediction\",\n",
    "    \"algo_at_doc_prediction\",\n",
    "    \"outcome\",\n",
    "    \"algo_and_doc_prediction\",\n",
    ")\n",
    "predictions_and_outcomes = analysis.combine_predictions(\n",
    "    predictions_and_outcomes,\n",
    "    \"doc_prediction_cat\",\n",
    "    \"algo_at_doc_prediction\",\n",
    "    \"outcome\",\n",
    "    \"algo_and_doc_cat_prediction\",\n",
    ")"
   ]
  },
  {
   "cell_type": "markdown",
   "id": "be7633c2",
   "metadata": {
    "pycharm": {
     "name": "#%% md\n"
    }
   },
   "source": [
    "## Discrimination and calibration of predictions"
   ]
  },
  {
   "cell_type": "code",
   "execution_count": null,
   "id": "fafa21bc",
   "metadata": {
    "pycharm": {
     "name": "#%%\n"
    }
   },
   "outputs": [],
   "source": [
    "table = analysis.performance_table(\n",
    "    predictions=predictions_and_outcomes,\n",
    "    outcome=\"outcome\",\n",
    "    prediction_columns={\n",
    "        \"Physician (Percentage)\": \"doc_prediction\",\n",
    "        \"Physician (Category)\": \"doc_prediction_cat\",\n",
    "        \"Model at Physician Prediction\": \"algo_at_doc_prediction\",\n",
    "        \"Model at Patient Discharge\": \"algo_at_discharge\",\n",
    "        \"Combined Model and Physician (Percentage)\": \"algo_and_doc_prediction\",\n",
    "        \"Combined Model and Physician (Category)\": \"algo_and_doc_cat_prediction\",\n",
    "    },\n",
    "    curve=\"roc\"\n",
    ")\n",
    "table.to_csv(os.path.join(project_root, tables_folder, hospital, \"performance_table.csv\"))\n",
    "table"
   ]
  },
  {
   "cell_type": "markdown",
   "id": "66ff1ee3b6e34641",
   "metadata": {
    "collapsed": false,
    "jupyter": {
     "outputs_hidden": false
    }
   },
   "source": [
    "### Differences in model performance"
   ]
  },
  {
   "cell_type": "code",
   "execution_count": null,
   "id": "954155c7c53472d3",
   "metadata": {
    "collapsed": false,
    "jupyter": {
     "outputs_hidden": false
    }
   },
   "outputs": [],
   "source": [
    "table, data = analysis.auc_differences_table(\n",
    "    predictions=predictions_and_outcomes,\n",
    "    outcome=\"outcome\",\n",
    "    prediction_columns={\n",
    "        \"Physician (Percentage)\": \"doc_prediction\",\n",
    "        \"Physician (Category)\": \"doc_prediction_cat\",\n",
    "        \"Model\": \"algo_at_doc_prediction\",\n",
    "        \"Combined Model and Physician (Percentage)\": \"algo_and_doc_prediction\",\n",
    "        \"Combined Model and Physician (Category)\": \"algo_and_doc_cat_prediction\",\n",
    "    },\n",
    "    curve=\"roc\"\n",
    ")\n",
    "table.to_csv(os.path.join(project_root, tables_folder, hospital, \"auc_differences_table.csv\"))\n",
    "table"
   ]
  },
  {
   "cell_type": "code",
   "execution_count": null,
   "id": "b3f59f867d54e4ea",
   "metadata": {
    "collapsed": false,
    "jupyter": {
     "outputs_hidden": false
    }
   },
   "outputs": [],
   "source": [
    "plots.combined_auc_difference_plot(data)"
   ]
  },
  {
   "cell_type": "code",
   "execution_count": null,
   "id": "427c12a1",
   "metadata": {
    "pycharm": {
     "name": "#%%\n"
    }
   },
   "outputs": [],
   "source": [
    "plots.plot_calibration(\n",
    "    predictions=predictions_and_outcomes,\n",
    "    outcome=\"outcome\",\n",
    "    prediction_columns={\n",
    "        \"Physician (Percentage)\": \"doc_prediction\",\n",
    "        \"Model\": \"algo_at_doc_prediction\",\n",
    "        \"Combined Model and Physician (Percentage)\": \"algo_and_doc_prediction\",\n",
    "        \"Combined Model and Physician (Category)\": \"algo_and_doc_cat_prediction\"\n",
    "    }\n",
    ")"
   ]
  },
  {
   "cell_type": "markdown",
   "id": "48e75212",
   "metadata": {
    "pycharm": {
     "name": "#%% md\n"
    }
   },
   "source": [
    "## AUC with different time thresholds"
   ]
  },
  {
   "cell_type": "code",
   "execution_count": null,
   "id": "4ce77c50",
   "metadata": {
    "pycharm": {
     "name": "#%%\n"
    }
   },
   "outputs": [],
   "source": [
    "time_dif_data = analysis.create_max_time_difference_df(\n",
    "    predictions_all_time_points=predictions_and_outcomes,\n",
    "    outcome=\"outcome\",\n",
    "    prediction_columns={\n",
    "        \"Physician (Percentage)\": \"doc_prediction\",\n",
    "        \"Physician (Category)\": \"doc_prediction_cat\",\n",
    "        \"Model\": \"algo_at_doc_prediction\"\n",
    "    },\n",
    "    curve=\"roc\"\n",
    ")"
   ]
  },
  {
   "cell_type": "code",
   "execution_count": null,
   "id": "a1a916e6",
   "metadata": {},
   "outputs": [],
   "source": [
    "plots.plot_auc_at_max_time_difference(\n",
    "    time_dif_data=time_dif_data,\n",
    "    prediction_columns={\n",
    "        \"Physician (Percentage)\": \"doc_prediction\",\n",
    "        \"Physician (Category)\": \"doc_prediction_cat\",\n",
    "        \"Model\": \"algo_at_doc_prediction\"\n",
    "    }\n",
    ")"
   ]
  },
  {
   "cell_type": "markdown",
   "id": "48ccd91f",
   "metadata": {
    "pycharm": {
     "name": "#%% md\n"
    }
   },
   "source": [
    "## Confidence level"
   ]
  },
  {
   "cell_type": "code",
   "execution_count": null,
   "id": "4f9161d7",
   "metadata": {
    "pycharm": {
     "name": "#%%\n"
    }
   },
   "outputs": [],
   "source": [
    "kruskal_wallis = kruskal(\n",
    "    predictions_and_outcomes.loc[\n",
    "        predictions_and_outcomes[\"confidence\"] == \"Veel\", \"confidence\"\n",
    "    ],\n",
    "    predictions_and_outcomes.loc[\n",
    "        predictions_and_outcomes[\"confidence\"] == \"Gemiddeld/Weinig\", \"confidence\"\n",
    "    ]\n",
    ")\n",
    "plots.stratified_histogram(\n",
    "    predictions_and_outcomes,\n",
    "    \"doc_prediction\",\n",
    "    \"confidence\",\n",
    "    kruskal=kruskal_wallis,\n",
    "    labels=[\"High Confidence\", \"Medium/Low Confidence\"],\n",
    "    plotname=\"confidence_physician_prediction\",\n",
    "    title=\"Physician Predictions by self-reported Confidence\"\n",
    ")"
   ]
  },
  {
   "cell_type": "code",
   "execution_count": null,
   "id": "b0cef850",
   "metadata": {
    "pycharm": {
     "name": "#%%\n"
    }
   },
   "outputs": [],
   "source": [
    "contingency_table_data = predictions_and_outcomes.loc[\n",
    "    ~pd.isnull(predictions_and_outcomes.doc_prediction_cat), :\n",
    "]\n",
    "contingency_table = contingency.crosstab(\n",
    "    contingency_table_data.doc_prediction_cat, contingency_table_data.confidence\n",
    ").count\n",
    "chi2 = chi2_contingency(contingency_table)\n",
    "plots.barplot_confidence_cat_prediction(predictions_and_outcomes, \"doc_prediction_cat\", chi2)"
   ]
  },
  {
   "cell_type": "code",
   "execution_count": null,
   "id": "deabaf3a",
   "metadata": {
    "pycharm": {
     "name": "#%%\n"
    }
   },
   "outputs": [],
   "source": [
    "performance_table_high_confidence = analysis.performance_table(\n",
    "    predictions=predictions_and_outcomes.loc[\n",
    "        predictions_and_outcomes.confidence == \"Veel\", :\n",
    "    ],\n",
    "    outcome=\"outcome\",\n",
    "    prediction_columns={\n",
    "        \"Physician (Percentage)\": \"doc_prediction\",\n",
    "        \"Physician (Category)\": \"doc_prediction_cat\",\n",
    "        \"Model\": \"algo_at_doc_prediction\",\n",
    "        \"Combined Model and Physician (Percentage)\": \"algo_and_doc_prediction\",\n",
    "        \"Combined Model and Physician (Category)\": \"algo_and_doc_cat_prediction\",\n",
    "    },\n",
    "    curve=\"roc\"\n",
    ")\n",
    "performance_table_high_confidence.to_csv(os.path.join(project_root, tables_folder, hospital, \"performance_table_high_confidence.csv\"))\n",
    "\n",
    "performance_table_medium_low_confidence = analysis.performance_table(\n",
    "    predictions=predictions_and_outcomes.loc[\n",
    "        predictions_and_outcomes.confidence == \"Gemiddeld/Weinig\", :\n",
    "    ],\n",
    "    outcome=\"outcome\",\n",
    "    prediction_columns={\n",
    "        \"Physician (Percentage)\": \"doc_prediction\",\n",
    "        \"Physician (Category)\": \"doc_prediction_cat\",\n",
    "        \"Model\": \"algo_at_doc_prediction\",\n",
    "        \"Combined Model and Physician (Percentage)\": \"algo_and_doc_prediction\",\n",
    "        \"Combined Model and Physician (Category)\": \"algo_and_doc_cat_prediction\",\n",
    "    },\n",
    "    curve=\"roc\"\n",
    ")\n",
    "performance_table_medium_low_confidence.to_csv(os.path.join(project_root, tables_folder, hospital, \"performance_table_medium_low_confidence.csv\"))"
   ]
  },
  {
   "cell_type": "code",
   "execution_count": null,
   "id": "b76ba7ec225b3441",
   "metadata": {
    "collapsed": false,
    "jupyter": {
     "outputs_hidden": false
    }
   },
   "outputs": [],
   "source": [
    "performance_table_high_confidence"
   ]
  },
  {
   "cell_type": "code",
   "execution_count": null,
   "id": "a1d8f7370a93b09",
   "metadata": {
    "collapsed": false,
    "jupyter": {
     "outputs_hidden": false
    }
   },
   "outputs": [],
   "source": [
    "performance_table_medium_low_confidence"
   ]
  },
  {
   "cell_type": "code",
   "execution_count": null,
   "id": "27d4748da08cd7a0",
   "metadata": {
    "collapsed": false,
    "jupyter": {
     "outputs_hidden": false
    }
   },
   "outputs": [],
   "source": [
    "plots.plot_performance_by_confidence(\n",
    "    performance_table_medium_low_confidence, \n",
    "    performance_table_high_confidence\n",
    "    )"
   ]
  },
  {
   "cell_type": "markdown",
   "id": "0b8d5382",
   "metadata": {
    "pycharm": {
     "name": "#%% md\n"
    }
   },
   "source": [
    "## Comparison factors for algo and doc"
   ]
  },
  {
   "cell_type": "code",
   "execution_count": null,
   "id": "42998768",
   "metadata": {},
   "outputs": [],
   "source": [
    "# Define factors\n",
    "shap_variable = predictions_and_outcomes.features_at_doc_prediction\n",
    "factors_variable = predictions_and_outcomes.doc_factors\n",
    "other_factor_variable = predictions_and_outcomes.doc_other_factor\n",
    "patient_id_variable = predictions_and_outcomes.patient_id\n",
    "discharge_time_variable = predictions_and_outcomes.discharge_time"
   ]
  },
  {
   "cell_type": "markdown",
   "id": "6a510caf",
   "metadata": {},
   "source": [
    "### Algorithm factors (model features)"
   ]
  },
  {
   "cell_type": "code",
   "execution_count": null,
   "id": "f29ba116",
   "metadata": {},
   "outputs": [],
   "source": [
    "# Get model factors based on Shapley values\n",
    "shap_data = analysis.construct_shap_data_frame(\n",
    "    shap_variable, patient_id_variable, discharge_time_variable\n",
    ")\n",
    "\n",
    "algo_factors = shap_data.pivot_table(\n",
    "    index=[\"patient_id\", \"discharge_time\"],\n",
    "    columns=[\"feature_name\"],\n",
    "    values=[\"shap_value\"],\n",
    "    aggfunc=np.size\n",
    ")\n",
    "\n",
    "algo_factors_summary = pd.DataFrame((~algo_factors.isnull()).sum()).reset_index().rename(columns={\n",
    "     0: 'count',\n",
    "     'feature_name': 'factor'\n",
    "     })[\n",
    "    ['factor', 'count']].sort_values(\n",
    "        by=['count', 'factor'], \n",
    "        ascending=[False, True]\n",
    "        )\n",
    "\n",
    "algo_factors_summary.to_csv(\n",
    "    os.path.join(project_root, tables_folder, hospital, \"algo_factors.csv\"),\n",
    "    index=False\n",
    "    )\n",
    "\n",
    "# Get model factors with new categories\n",
    "shap_data_new = analysis.get_new_algo_features(shap_data, limit=3, absolute_values=True)\n",
    "algo_factors_new = pd.pivot(\n",
    "    shap_data_new,\n",
    "    index=[\"patient_id\", \"discharge_time\"],\n",
    "    columns=[\"new_feature_name\"],\n",
    "    values=[\"shap_value\"],\n",
    ")\n",
    "\n",
    "algo_factors_new_summary = pd.DataFrame((~algo_factors_new.isnull()).sum()).reset_index().rename(columns={\n",
    "    0: 'count',\n",
    "    'new_feature_name': 'factor_category'\n",
    "    })[['factor_category', 'count']].sort_values(\n",
    "        by=['count', 'factor_category'], \n",
    "        ascending=[False, True]\n",
    "        )\n",
    "\n",
    "algo_factors_new_summary['percentage'] = round(100 * algo_factors_new_summary['count']/algo_factors_new_summary['count'].sum(), 1)\n",
    "\n",
    "algo_factors_new_summary.to_csv(\n",
    "    os.path.join(project_root, tables_folder, hospital, \"algo_factor_categories.csv\"),\n",
    "    index=False\n",
    "    )"
   ]
  },
  {
   "cell_type": "markdown",
   "id": "0175ade7",
   "metadata": {},
   "source": [
    "### Doc factors"
   ]
  },
  {
   "cell_type": "code",
   "execution_count": null,
   "id": "80329f69",
   "metadata": {},
   "outputs": [],
   "source": [
    "# Get physician reasons based on questionnaire answers\n",
    "doc_factors_data = analysis.construct_doc_factors_data_frame(\n",
    "    factors_variable,\n",
    "    other_factor_variable,\n",
    "    patient_id_variable,\n",
    "    discharge_time_variable\n",
    ")\n",
    "\n",
    "doc_factors = doc_factors_data.pivot_table(\n",
    "    index=[\"patient_id\", \"discharge_time\"],\n",
    "    columns=[\"factors\"],\n",
    "    values=\"factors\",\n",
    "    aggfunc=np.size\n",
    ")\n",
    "\n",
    "print(\n",
    "    \"Physicians on average give\", (~doc_factors.isnull()).sum(axis=1).mean(), \"reason\"\n",
    ")\n",
    "\n",
    "doc_factors_summary = pd.DataFrame((~doc_factors.isnull()).sum()).reset_index().rename(columns={ 0: 'count', 'factors': 'factor'})[\n",
    "    ['factor', 'count']].sort_values(\n",
    "        by=['count', 'factor'], \n",
    "        ascending=[False, True]\n",
    "        )\n",
    "\n",
    "doc_factors_summary.to_csv(\n",
    "    os.path.join(project_root, tables_folder, hospital, \"doc_factors.csv\"),\n",
    "    index=False\n",
    "    )\n",
    "\n",
    "# Get physician reasons with new categories\n",
    "doc_factors_data_new = analysis.get_new_doc_features(doc_factors_data)\n",
    "doc_factors_new = pd.pivot(\n",
    "    doc_factors_data_new,\n",
    "    index=[\"patient_id\", \"discharge_time\"],\n",
    "    columns=[\"new_factors\"],\n",
    "    values=\"new_factors\",\n",
    ")\n",
    "\n",
    "doc_factors_new_summary = pd.DataFrame((~doc_factors_new.isnull()).sum()).reset_index().rename(columns={ \n",
    "    0: 'count', \n",
    "    'new_factors': 'factor_category'\n",
    "})[\n",
    "    ['factor_category', 'count']].sort_values(\n",
    "        by=['count', 'factor_category'], \n",
    "        ascending=[False, True]\n",
    "        )\n",
    "\n",
    "doc_factors_new_summary['percentage'] = round(100 * doc_factors_new_summary['count']/doc_factors_new_summary['count'].sum(), 1)\n",
    "\n",
    "doc_factors_new_summary.to_csv(\n",
    "    os.path.join(project_root, tables_folder, hospital, \"doc_factor_categories.csv\"),\n",
    "    index=False\n",
    "    )"
   ]
  },
  {
   "cell_type": "markdown",
   "id": "803dfef7",
   "metadata": {},
   "source": [
    "### Algorithm feature coverage\n",
    "Calculates feature coverage based on the sum of absolute or raw Shapley values"
   ]
  },
  {
   "cell_type": "code",
   "execution_count": null,
   "id": "f1177bc3",
   "metadata": {
    "pycharm": {
     "name": "#%%\n"
    }
   },
   "outputs": [],
   "source": [
    "coverage_data = analysis.create_shap_coverage_data(shap_data, doc_factors_data_new)\n",
    "plots.plot_coverage_at_max_features(coverage_data)"
   ]
  },
  {
   "cell_type": "code",
   "execution_count": null,
   "id": "bfea63c0",
   "metadata": {},
   "outputs": [],
   "source": [
    "plots.plot_combined_curves(\n",
    "    predictions=predictions_and_outcomes,\n",
    "    outcome=\"outcome\",\n",
    "    prediction_columns={\n",
    "        \"Physician (Percentage)\": \"doc_prediction\",\n",
    "        \"Physician (Category)\": \"doc_prediction_cat\",\n",
    "        \"Model\": \"algo_at_doc_prediction\",\n",
    "        \"Combined Model and\\nPhysician (Percentage)\": \"algo_and_doc_prediction\",\n",
    "        \"Combined Model and\\nPhysician (Category)\": \"algo_and_doc_cat_prediction\",\n",
    "    },\n",
    "    curve=\"roc\"\n",
    ")"
   ]
  }
 ],
 "metadata": {
  "kernelspec": {
   "display_name": ".venv",
   "language": "python",
   "name": "python3"
  },
  "language_info": {
   "codemirror_mode": {
    "name": "ipython",
    "version": 3
   },
   "file_extension": ".py",
   "mimetype": "text/x-python",
   "name": "python",
   "nbconvert_exporter": "python",
   "pygments_lexer": "ipython3",
   "version": "3.12.10"
  }
 },
 "nbformat": 4,
 "nbformat_minor": 5
}
